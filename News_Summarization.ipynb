{
 "cells": [
  {
   "cell_type": "code",
   "execution_count": 1,
   "metadata": {
    "tags": []
   },
   "outputs": [],
   "source": [
    "import numpy as np\n",
    "import pandas as pd\n",
    "import seaborn as sns\n",
    "import matplotlib.pyplot as plt\n",
    "import torch\n",
    "import warnings\n",
    "warnings.filterwarnings(\"ignore\") "
   ]
  },
  {
   "cell_type": "code",
   "execution_count": 2,
   "metadata": {
    "tags": []
   },
   "outputs": [],
   "source": [
    "from sklearn.model_selection import train_test_split\n",
    "from torch.utils.data import Dataset, DataLoader\n",
    "from lightning.pytorch import Trainer\n",
    "from lightning.pytorch.callbacks import ModelCheckpoint\n",
    "from lightning.pytorch.loggers import TensorBoardLogger"
   ]
  },
  {
   "cell_type": "code",
   "execution_count": 3,
   "metadata": {
    "tags": []
   },
   "outputs": [],
   "source": [
    "import transformers\n",
    "from transformers import T5Tokenizer, T5ForConditionalGeneration, AutoTokenizer, AutoModel\n",
    "from transformers import PegasusForConditionalGeneration, PegasusTokenizer, BartForConditionalGeneration\n",
    "from transformers import DataCollatorForSeq2Seq, AdamW, get_linear_schedule_with_warmup\n",
    "from transformers import AutoModelForSeq2SeqLM, Seq2SeqTrainingArguments, Seq2SeqTrainer\n",
    "from transformers import create_optimizer, AdamWeightDecay\n",
    "from transformers import pipeline\n",
    "import datasets\n",
    "from datasets import Dataset, DatasetDict\n",
    "#from torch.utils.data import DataLoader, Dataset\n",
    "from tqdm.auto import tqdm\n",
    "from rouge import Rouge"
   ]
  },
  {
   "cell_type": "code",
   "execution_count": 4,
   "metadata": {
    "tags": []
   },
   "outputs": [
    {
     "data": {
      "text/plain": [
       "'cuda'"
      ]
     },
     "execution_count": 4,
     "metadata": {},
     "output_type": "execute_result"
    }
   ],
   "source": [
    "from torch import cuda\n",
    "device = 'cuda' if cuda.is_available() else 'cpu'\n",
    "device"
   ]
  },
  {
   "cell_type": "code",
   "execution_count": 5,
   "metadata": {
    "tags": []
   },
   "outputs": [
    {
     "data": {
      "text/html": [
       "<div>\n",
       "<style scoped>\n",
       "    .dataframe tbody tr th:only-of-type {\n",
       "        vertical-align: middle;\n",
       "    }\n",
       "\n",
       "    .dataframe tbody tr th {\n",
       "        vertical-align: top;\n",
       "    }\n",
       "\n",
       "    .dataframe thead th {\n",
       "        text-align: right;\n",
       "    }\n",
       "</style>\n",
       "<table border=\"1\" class=\"dataframe\">\n",
       "  <thead>\n",
       "    <tr style=\"text-align: right;\">\n",
       "      <th></th>\n",
       "      <th>author</th>\n",
       "      <th>date</th>\n",
       "      <th>headlines</th>\n",
       "      <th>read_more</th>\n",
       "      <th>text</th>\n",
       "      <th>ctext</th>\n",
       "    </tr>\n",
       "  </thead>\n",
       "  <tbody>\n",
       "    <tr>\n",
       "      <th>0</th>\n",
       "      <td>Chhavi Tyagi</td>\n",
       "      <td>03 Aug 2017,Thursday</td>\n",
       "      <td>Daman &amp; Diu revokes mandatory Rakshabandhan in...</td>\n",
       "      <td>http://www.hindustantimes.com/india-news/raksh...</td>\n",
       "      <td>The Administration of Union Territory Daman an...</td>\n",
       "      <td>The Daman and Diu administration on Wednesday ...</td>\n",
       "    </tr>\n",
       "    <tr>\n",
       "      <th>1</th>\n",
       "      <td>Daisy Mowke</td>\n",
       "      <td>03 Aug 2017,Thursday</td>\n",
       "      <td>Malaika slams user who trolled her for 'divorc...</td>\n",
       "      <td>http://www.hindustantimes.com/bollywood/malaik...</td>\n",
       "      <td>Malaika Arora slammed an Instagram user who tr...</td>\n",
       "      <td>From her special numbers to TV?appearances, Bo...</td>\n",
       "    </tr>\n",
       "    <tr>\n",
       "      <th>2</th>\n",
       "      <td>Arshiya Chopra</td>\n",
       "      <td>03 Aug 2017,Thursday</td>\n",
       "      <td>'Virgin' now corrected to 'Unmarried' in IGIMS...</td>\n",
       "      <td>http://www.hindustantimes.com/patna/bihar-igim...</td>\n",
       "      <td>The Indira Gandhi Institute of Medical Science...</td>\n",
       "      <td>The Indira Gandhi Institute of Medical Science...</td>\n",
       "    </tr>\n",
       "    <tr>\n",
       "      <th>3</th>\n",
       "      <td>Sumedha Sehra</td>\n",
       "      <td>03 Aug 2017,Thursday</td>\n",
       "      <td>Aaj aapne pakad liya: LeT man Dujana before be...</td>\n",
       "      <td>http://indiatoday.intoday.in/story/abu-dujana-...</td>\n",
       "      <td>Lashkar-e-Taiba's Kashmir commander Abu Dujana...</td>\n",
       "      <td>Lashkar-e-Taiba's Kashmir commander Abu Dujana...</td>\n",
       "    </tr>\n",
       "    <tr>\n",
       "      <th>4</th>\n",
       "      <td>Aarushi Maheshwari</td>\n",
       "      <td>03 Aug 2017,Thursday</td>\n",
       "      <td>Hotel staff to get training to spot signs of s...</td>\n",
       "      <td>http://indiatoday.intoday.in/story/sex-traffic...</td>\n",
       "      <td>Hotels in Maharashtra will train their staff t...</td>\n",
       "      <td>Hotels in Mumbai and other Indian cities are t...</td>\n",
       "    </tr>\n",
       "  </tbody>\n",
       "</table>\n",
       "</div>"
      ],
      "text/plain": [
       "               author                  date  \\\n",
       "0        Chhavi Tyagi  03 Aug 2017,Thursday   \n",
       "1         Daisy Mowke  03 Aug 2017,Thursday   \n",
       "2      Arshiya Chopra  03 Aug 2017,Thursday   \n",
       "3       Sumedha Sehra  03 Aug 2017,Thursday   \n",
       "4  Aarushi Maheshwari  03 Aug 2017,Thursday   \n",
       "\n",
       "                                           headlines  \\\n",
       "0  Daman & Diu revokes mandatory Rakshabandhan in...   \n",
       "1  Malaika slams user who trolled her for 'divorc...   \n",
       "2  'Virgin' now corrected to 'Unmarried' in IGIMS...   \n",
       "3  Aaj aapne pakad liya: LeT man Dujana before be...   \n",
       "4  Hotel staff to get training to spot signs of s...   \n",
       "\n",
       "                                           read_more  \\\n",
       "0  http://www.hindustantimes.com/india-news/raksh...   \n",
       "1  http://www.hindustantimes.com/bollywood/malaik...   \n",
       "2  http://www.hindustantimes.com/patna/bihar-igim...   \n",
       "3  http://indiatoday.intoday.in/story/abu-dujana-...   \n",
       "4  http://indiatoday.intoday.in/story/sex-traffic...   \n",
       "\n",
       "                                                text  \\\n",
       "0  The Administration of Union Territory Daman an...   \n",
       "1  Malaika Arora slammed an Instagram user who tr...   \n",
       "2  The Indira Gandhi Institute of Medical Science...   \n",
       "3  Lashkar-e-Taiba's Kashmir commander Abu Dujana...   \n",
       "4  Hotels in Maharashtra will train their staff t...   \n",
       "\n",
       "                                               ctext  \n",
       "0  The Daman and Diu administration on Wednesday ...  \n",
       "1  From her special numbers to TV?appearances, Bo...  \n",
       "2  The Indira Gandhi Institute of Medical Science...  \n",
       "3  Lashkar-e-Taiba's Kashmir commander Abu Dujana...  \n",
       "4  Hotels in Mumbai and other Indian cities are t...  "
      ]
     },
     "execution_count": 5,
     "metadata": {},
     "output_type": "execute_result"
    }
   ],
   "source": [
    "df = pd.read_csv(\"news_summary.csv\", encoding=\"latin-1\")\n",
    "df.head()"
   ]
  },
  {
   "cell_type": "code",
   "execution_count": 6,
   "metadata": {
    "tags": []
   },
   "outputs": [
    {
     "data": {
      "text/html": [
       "<div>\n",
       "<style scoped>\n",
       "    .dataframe tbody tr th:only-of-type {\n",
       "        vertical-align: middle;\n",
       "    }\n",
       "\n",
       "    .dataframe tbody tr th {\n",
       "        vertical-align: top;\n",
       "    }\n",
       "\n",
       "    .dataframe thead th {\n",
       "        text-align: right;\n",
       "    }\n",
       "</style>\n",
       "<table border=\"1\" class=\"dataframe\">\n",
       "  <thead>\n",
       "    <tr style=\"text-align: right;\">\n",
       "      <th></th>\n",
       "      <th>author</th>\n",
       "      <th>date</th>\n",
       "      <th>headlines</th>\n",
       "      <th>read_more</th>\n",
       "      <th>text</th>\n",
       "      <th>ctext</th>\n",
       "    </tr>\n",
       "  </thead>\n",
       "  <tbody>\n",
       "    <tr>\n",
       "      <th>count</th>\n",
       "      <td>4514</td>\n",
       "      <td>4514</td>\n",
       "      <td>4514</td>\n",
       "      <td>4514</td>\n",
       "      <td>4514</td>\n",
       "      <td>4396</td>\n",
       "    </tr>\n",
       "    <tr>\n",
       "      <th>unique</th>\n",
       "      <td>45</td>\n",
       "      <td>240</td>\n",
       "      <td>4514</td>\n",
       "      <td>4461</td>\n",
       "      <td>4514</td>\n",
       "      <td>4341</td>\n",
       "    </tr>\n",
       "    <tr>\n",
       "      <th>top</th>\n",
       "      <td>Chhavi Tyagi</td>\n",
       "      <td>19 Jul 2017,Wednesday</td>\n",
       "      <td>Daman &amp; Diu revokes mandatory Rakshabandhan in...</td>\n",
       "      <td>http://indiatoday.intoday.in/story/assembly-el...</td>\n",
       "      <td>The Administration of Union Territory Daman an...</td>\n",
       "      <td>AAJ TAK LIVE TV WITH LIVE ELECTION RESULTS I c...</td>\n",
       "    </tr>\n",
       "    <tr>\n",
       "      <th>freq</th>\n",
       "      <td>559</td>\n",
       "      <td>76</td>\n",
       "      <td>1</td>\n",
       "      <td>13</td>\n",
       "      <td>1</td>\n",
       "      <td>13</td>\n",
       "    </tr>\n",
       "  </tbody>\n",
       "</table>\n",
       "</div>"
      ],
      "text/plain": [
       "              author                   date  \\\n",
       "count           4514                   4514   \n",
       "unique            45                    240   \n",
       "top     Chhavi Tyagi  19 Jul 2017,Wednesday   \n",
       "freq             559                     76   \n",
       "\n",
       "                                                headlines  \\\n",
       "count                                                4514   \n",
       "unique                                               4514   \n",
       "top     Daman & Diu revokes mandatory Rakshabandhan in...   \n",
       "freq                                                    1   \n",
       "\n",
       "                                                read_more  \\\n",
       "count                                                4514   \n",
       "unique                                               4461   \n",
       "top     http://indiatoday.intoday.in/story/assembly-el...   \n",
       "freq                                                   13   \n",
       "\n",
       "                                                     text  \\\n",
       "count                                                4514   \n",
       "unique                                               4514   \n",
       "top     The Administration of Union Territory Daman an...   \n",
       "freq                                                    1   \n",
       "\n",
       "                                                    ctext  \n",
       "count                                                4396  \n",
       "unique                                               4341  \n",
       "top     AAJ TAK LIVE TV WITH LIVE ELECTION RESULTS I c...  \n",
       "freq                                                   13  "
      ]
     },
     "execution_count": 6,
     "metadata": {},
     "output_type": "execute_result"
    }
   ],
   "source": [
    "df.describe()"
   ]
  },
  {
   "cell_type": "code",
   "execution_count": 7,
   "metadata": {
    "tags": []
   },
   "outputs": [
    {
     "name": "stdout",
     "output_type": "stream",
     "text": [
      "<class 'pandas.core.frame.DataFrame'>\n",
      "RangeIndex: 4514 entries, 0 to 4513\n",
      "Data columns (total 6 columns):\n",
      " #   Column     Non-Null Count  Dtype \n",
      "---  ------     --------------  ----- \n",
      " 0   author     4514 non-null   object\n",
      " 1   date       4514 non-null   object\n",
      " 2   headlines  4514 non-null   object\n",
      " 3   read_more  4514 non-null   object\n",
      " 4   text       4514 non-null   object\n",
      " 5   ctext      4396 non-null   object\n",
      "dtypes: object(6)\n",
      "memory usage: 211.7+ KB\n"
     ]
    }
   ],
   "source": [
    "df.info()"
   ]
  },
  {
   "cell_type": "code",
   "execution_count": 8,
   "metadata": {
    "tags": []
   },
   "outputs": [
    {
     "data": {
      "text/html": [
       "<div>\n",
       "<style scoped>\n",
       "    .dataframe tbody tr th:only-of-type {\n",
       "        vertical-align: middle;\n",
       "    }\n",
       "\n",
       "    .dataframe tbody tr th {\n",
       "        vertical-align: top;\n",
       "    }\n",
       "\n",
       "    .dataframe thead th {\n",
       "        text-align: right;\n",
       "    }\n",
       "</style>\n",
       "<table border=\"1\" class=\"dataframe\">\n",
       "  <thead>\n",
       "    <tr style=\"text-align: right;\">\n",
       "      <th></th>\n",
       "      <th>headlines</th>\n",
       "      <th>text</th>\n",
       "      <th>ctext</th>\n",
       "    </tr>\n",
       "  </thead>\n",
       "  <tbody>\n",
       "    <tr>\n",
       "      <th>0</th>\n",
       "      <td>Daman &amp; Diu revokes mandatory Rakshabandhan in...</td>\n",
       "      <td>The Administration of Union Territory Daman an...</td>\n",
       "      <td>The Daman and Diu administration on Wednesday ...</td>\n",
       "    </tr>\n",
       "    <tr>\n",
       "      <th>1</th>\n",
       "      <td>Malaika slams user who trolled her for 'divorc...</td>\n",
       "      <td>Malaika Arora slammed an Instagram user who tr...</td>\n",
       "      <td>From her special numbers to TV?appearances, Bo...</td>\n",
       "    </tr>\n",
       "    <tr>\n",
       "      <th>2</th>\n",
       "      <td>'Virgin' now corrected to 'Unmarried' in IGIMS...</td>\n",
       "      <td>The Indira Gandhi Institute of Medical Science...</td>\n",
       "      <td>The Indira Gandhi Institute of Medical Science...</td>\n",
       "    </tr>\n",
       "    <tr>\n",
       "      <th>3</th>\n",
       "      <td>Aaj aapne pakad liya: LeT man Dujana before be...</td>\n",
       "      <td>Lashkar-e-Taiba's Kashmir commander Abu Dujana...</td>\n",
       "      <td>Lashkar-e-Taiba's Kashmir commander Abu Dujana...</td>\n",
       "    </tr>\n",
       "    <tr>\n",
       "      <th>4</th>\n",
       "      <td>Hotel staff to get training to spot signs of s...</td>\n",
       "      <td>Hotels in Maharashtra will train their staff t...</td>\n",
       "      <td>Hotels in Mumbai and other Indian cities are t...</td>\n",
       "    </tr>\n",
       "  </tbody>\n",
       "</table>\n",
       "</div>"
      ],
      "text/plain": [
       "                                           headlines  \\\n",
       "0  Daman & Diu revokes mandatory Rakshabandhan in...   \n",
       "1  Malaika slams user who trolled her for 'divorc...   \n",
       "2  'Virgin' now corrected to 'Unmarried' in IGIMS...   \n",
       "3  Aaj aapne pakad liya: LeT man Dujana before be...   \n",
       "4  Hotel staff to get training to spot signs of s...   \n",
       "\n",
       "                                                text  \\\n",
       "0  The Administration of Union Territory Daman an...   \n",
       "1  Malaika Arora slammed an Instagram user who tr...   \n",
       "2  The Indira Gandhi Institute of Medical Science...   \n",
       "3  Lashkar-e-Taiba's Kashmir commander Abu Dujana...   \n",
       "4  Hotels in Maharashtra will train their staff t...   \n",
       "\n",
       "                                               ctext  \n",
       "0  The Daman and Diu administration on Wednesday ...  \n",
       "1  From her special numbers to TV?appearances, Bo...  \n",
       "2  The Indira Gandhi Institute of Medical Science...  \n",
       "3  Lashkar-e-Taiba's Kashmir commander Abu Dujana...  \n",
       "4  Hotels in Mumbai and other Indian cities are t...  "
      ]
     },
     "execution_count": 8,
     "metadata": {},
     "output_type": "execute_result"
    }
   ],
   "source": [
    "df = df[['headlines', 'text', 'ctext']]\n",
    "df.head()"
   ]
  },
  {
   "cell_type": "code",
   "execution_count": 9,
   "metadata": {
    "tags": []
   },
   "outputs": [
    {
     "data": {
      "text/html": [
       "<div>\n",
       "<style scoped>\n",
       "    .dataframe tbody tr th:only-of-type {\n",
       "        vertical-align: middle;\n",
       "    }\n",
       "\n",
       "    .dataframe tbody tr th {\n",
       "        vertical-align: top;\n",
       "    }\n",
       "\n",
       "    .dataframe thead th {\n",
       "        text-align: right;\n",
       "    }\n",
       "</style>\n",
       "<table border=\"1\" class=\"dataframe\">\n",
       "  <thead>\n",
       "    <tr style=\"text-align: right;\">\n",
       "      <th></th>\n",
       "      <th>headlines</th>\n",
       "      <th>text</th>\n",
       "      <th>ctext</th>\n",
       "    </tr>\n",
       "  </thead>\n",
       "  <tbody>\n",
       "    <tr>\n",
       "      <th>count</th>\n",
       "      <td>4396</td>\n",
       "      <td>4396</td>\n",
       "      <td>4396</td>\n",
       "    </tr>\n",
       "    <tr>\n",
       "      <th>unique</th>\n",
       "      <td>4396</td>\n",
       "      <td>4396</td>\n",
       "      <td>4341</td>\n",
       "    </tr>\n",
       "    <tr>\n",
       "      <th>top</th>\n",
       "      <td>Daman &amp; Diu revokes mandatory Rakshabandhan in...</td>\n",
       "      <td>The Administration of Union Territory Daman an...</td>\n",
       "      <td>AAJ TAK LIVE TV WITH LIVE ELECTION RESULTS I c...</td>\n",
       "    </tr>\n",
       "    <tr>\n",
       "      <th>freq</th>\n",
       "      <td>1</td>\n",
       "      <td>1</td>\n",
       "      <td>13</td>\n",
       "    </tr>\n",
       "  </tbody>\n",
       "</table>\n",
       "</div>"
      ],
      "text/plain": [
       "                                                headlines  \\\n",
       "count                                                4396   \n",
       "unique                                               4396   \n",
       "top     Daman & Diu revokes mandatory Rakshabandhan in...   \n",
       "freq                                                    1   \n",
       "\n",
       "                                                     text  \\\n",
       "count                                                4396   \n",
       "unique                                               4396   \n",
       "top     The Administration of Union Territory Daman an...   \n",
       "freq                                                    1   \n",
       "\n",
       "                                                    ctext  \n",
       "count                                                4396  \n",
       "unique                                               4341  \n",
       "top     AAJ TAK LIVE TV WITH LIVE ELECTION RESULTS I c...  \n",
       "freq                                                   13  "
      ]
     },
     "execution_count": 9,
     "metadata": {},
     "output_type": "execute_result"
    }
   ],
   "source": [
    "# drop na\n",
    "df = df.dropna()\n",
    "df.describe()"
   ]
  },
  {
   "cell_type": "code",
   "execution_count": 10,
   "metadata": {
    "tags": []
   },
   "outputs": [
    {
     "data": {
      "text/html": [
       "<div>\n",
       "<style scoped>\n",
       "    .dataframe tbody tr th:only-of-type {\n",
       "        vertical-align: middle;\n",
       "    }\n",
       "\n",
       "    .dataframe tbody tr th {\n",
       "        vertical-align: top;\n",
       "    }\n",
       "\n",
       "    .dataframe thead th {\n",
       "        text-align: right;\n",
       "    }\n",
       "</style>\n",
       "<table border=\"1\" class=\"dataframe\">\n",
       "  <thead>\n",
       "    <tr style=\"text-align: right;\">\n",
       "      <th></th>\n",
       "      <th>headlines</th>\n",
       "      <th>text</th>\n",
       "      <th>ctext</th>\n",
       "    </tr>\n",
       "  </thead>\n",
       "  <tbody>\n",
       "    <tr>\n",
       "      <th>0</th>\n",
       "      <td>daman &amp; diu revokes mandatory rakshabandhan in...</td>\n",
       "      <td>the administration of union territory daman an...</td>\n",
       "      <td>the daman and diu administration on wednesday ...</td>\n",
       "    </tr>\n",
       "    <tr>\n",
       "      <th>1</th>\n",
       "      <td>malaika slams user who trolled her for 'divorc...</td>\n",
       "      <td>malaika arora slammed an instagram user who tr...</td>\n",
       "      <td>from her special numbers to tv?appearances, bo...</td>\n",
       "    </tr>\n",
       "    <tr>\n",
       "      <th>2</th>\n",
       "      <td>'virgin' now corrected to 'unmarried' in igims...</td>\n",
       "      <td>the indira gandhi institute of medical science...</td>\n",
       "      <td>the indira gandhi institute of medical science...</td>\n",
       "    </tr>\n",
       "    <tr>\n",
       "      <th>3</th>\n",
       "      <td>aaj aapne pakad liya: let man dujana before be...</td>\n",
       "      <td>lashkar-e-taiba's kashmir commander abu dujana...</td>\n",
       "      <td>lashkar-e-taiba's kashmir commander abu dujana...</td>\n",
       "    </tr>\n",
       "    <tr>\n",
       "      <th>4</th>\n",
       "      <td>hotel staff to get training to spot signs of s...</td>\n",
       "      <td>hotels in maharashtra will train their staff t...</td>\n",
       "      <td>hotels in mumbai and other indian cities are t...</td>\n",
       "    </tr>\n",
       "  </tbody>\n",
       "</table>\n",
       "</div>"
      ],
      "text/plain": [
       "                                           headlines  \\\n",
       "0  daman & diu revokes mandatory rakshabandhan in...   \n",
       "1  malaika slams user who trolled her for 'divorc...   \n",
       "2  'virgin' now corrected to 'unmarried' in igims...   \n",
       "3  aaj aapne pakad liya: let man dujana before be...   \n",
       "4  hotel staff to get training to spot signs of s...   \n",
       "\n",
       "                                                text  \\\n",
       "0  the administration of union territory daman an...   \n",
       "1  malaika arora slammed an instagram user who tr...   \n",
       "2  the indira gandhi institute of medical science...   \n",
       "3  lashkar-e-taiba's kashmir commander abu dujana...   \n",
       "4  hotels in maharashtra will train their staff t...   \n",
       "\n",
       "                                               ctext  \n",
       "0  the daman and diu administration on wednesday ...  \n",
       "1  from her special numbers to tv?appearances, bo...  \n",
       "2  the indira gandhi institute of medical science...  \n",
       "3  lashkar-e-taiba's kashmir commander abu dujana...  \n",
       "4  hotels in mumbai and other indian cities are t...  "
      ]
     },
     "execution_count": 10,
     "metadata": {},
     "output_type": "execute_result"
    }
   ],
   "source": [
    "# Converting to lowercase\n",
    "df['ctext'] = df['ctext'].apply(str.lower)\n",
    "df['text'] = df['text'].apply(str.lower)\n",
    "df['headlines'] = df['headlines'].apply(str.lower)\n",
    "df.head()"
   ]
  },
  {
   "cell_type": "code",
   "execution_count": 11,
   "metadata": {
    "tags": []
   },
   "outputs": [
    {
     "data": {
      "text/html": [
       "<div>\n",
       "<style scoped>\n",
       "    .dataframe tbody tr th:only-of-type {\n",
       "        vertical-align: middle;\n",
       "    }\n",
       "\n",
       "    .dataframe tbody tr th {\n",
       "        vertical-align: top;\n",
       "    }\n",
       "\n",
       "    .dataframe thead th {\n",
       "        text-align: right;\n",
       "    }\n",
       "</style>\n",
       "<table border=\"1\" class=\"dataframe\">\n",
       "  <thead>\n",
       "    <tr style=\"text-align: right;\">\n",
       "      <th></th>\n",
       "      <th>headlines</th>\n",
       "      <th>text</th>\n",
       "      <th>ctext</th>\n",
       "      <th>headlines_length</th>\n",
       "      <th>text_length</th>\n",
       "      <th>ctext_length</th>\n",
       "    </tr>\n",
       "  </thead>\n",
       "  <tbody>\n",
       "    <tr>\n",
       "      <th>0</th>\n",
       "      <td>daman &amp; diu revokes mandatory rakshabandhan in...</td>\n",
       "      <td>the administration of union territory daman an...</td>\n",
       "      <td>the daman and diu administration on wednesday ...</td>\n",
       "      <td>9</td>\n",
       "      <td>60</td>\n",
       "      <td>364</td>\n",
       "    </tr>\n",
       "    <tr>\n",
       "      <th>1</th>\n",
       "      <td>malaika slams user who trolled her for 'divorc...</td>\n",
       "      <td>malaika arora slammed an instagram user who tr...</td>\n",
       "      <td>from her special numbers to tv?appearances, bo...</td>\n",
       "      <td>10</td>\n",
       "      <td>60</td>\n",
       "      <td>396</td>\n",
       "    </tr>\n",
       "    <tr>\n",
       "      <th>2</th>\n",
       "      <td>'virgin' now corrected to 'unmarried' in igims...</td>\n",
       "      <td>the indira gandhi institute of medical science...</td>\n",
       "      <td>the indira gandhi institute of medical science...</td>\n",
       "      <td>8</td>\n",
       "      <td>60</td>\n",
       "      <td>335</td>\n",
       "    </tr>\n",
       "    <tr>\n",
       "      <th>3</th>\n",
       "      <td>aaj aapne pakad liya: let man dujana before be...</td>\n",
       "      <td>lashkar-e-taiba's kashmir commander abu dujana...</td>\n",
       "      <td>lashkar-e-taiba's kashmir commander abu dujana...</td>\n",
       "      <td>10</td>\n",
       "      <td>60</td>\n",
       "      <td>404</td>\n",
       "    </tr>\n",
       "    <tr>\n",
       "      <th>4</th>\n",
       "      <td>hotel staff to get training to spot signs of s...</td>\n",
       "      <td>hotels in maharashtra will train their staff t...</td>\n",
       "      <td>hotels in mumbai and other indian cities are t...</td>\n",
       "      <td>11</td>\n",
       "      <td>60</td>\n",
       "      <td>526</td>\n",
       "    </tr>\n",
       "  </tbody>\n",
       "</table>\n",
       "</div>"
      ],
      "text/plain": [
       "                                           headlines  \\\n",
       "0  daman & diu revokes mandatory rakshabandhan in...   \n",
       "1  malaika slams user who trolled her for 'divorc...   \n",
       "2  'virgin' now corrected to 'unmarried' in igims...   \n",
       "3  aaj aapne pakad liya: let man dujana before be...   \n",
       "4  hotel staff to get training to spot signs of s...   \n",
       "\n",
       "                                                text  \\\n",
       "0  the administration of union territory daman an...   \n",
       "1  malaika arora slammed an instagram user who tr...   \n",
       "2  the indira gandhi institute of medical science...   \n",
       "3  lashkar-e-taiba's kashmir commander abu dujana...   \n",
       "4  hotels in maharashtra will train their staff t...   \n",
       "\n",
       "                                               ctext  headlines_length  \\\n",
       "0  the daman and diu administration on wednesday ...                 9   \n",
       "1  from her special numbers to tv?appearances, bo...                10   \n",
       "2  the indira gandhi institute of medical science...                 8   \n",
       "3  lashkar-e-taiba's kashmir commander abu dujana...                10   \n",
       "4  hotels in mumbai and other indian cities are t...                11   \n",
       "\n",
       "   text_length  ctext_length  \n",
       "0           60           364  \n",
       "1           60           396  \n",
       "2           60           335  \n",
       "3           60           404  \n",
       "4           60           526  "
      ]
     },
     "execution_count": 11,
     "metadata": {},
     "output_type": "execute_result"
    }
   ],
   "source": [
    "df['headlines_length'] = [len(x.split()) for x in df.headlines]\n",
    "df['text_length'] = [len(x.split()) for x in df.text]\n",
    "df['ctext_length'] = [len(x.split()) for x in df.ctext]\n",
    "df.head()"
   ]
  },
  {
   "cell_type": "code",
   "execution_count": 12,
   "metadata": {
    "tags": []
   },
   "outputs": [
    {
     "data": {
      "text/html": [
       "<div>\n",
       "<style scoped>\n",
       "    .dataframe tbody tr th:only-of-type {\n",
       "        vertical-align: middle;\n",
       "    }\n",
       "\n",
       "    .dataframe tbody tr th {\n",
       "        vertical-align: top;\n",
       "    }\n",
       "\n",
       "    .dataframe thead th {\n",
       "        text-align: right;\n",
       "    }\n",
       "</style>\n",
       "<table border=\"1\" class=\"dataframe\">\n",
       "  <thead>\n",
       "    <tr style=\"text-align: right;\">\n",
       "      <th></th>\n",
       "      <th>headlines_length</th>\n",
       "      <th>text_length</th>\n",
       "      <th>ctext_length</th>\n",
       "    </tr>\n",
       "  </thead>\n",
       "  <tbody>\n",
       "    <tr>\n",
       "      <th>count</th>\n",
       "      <td>4274.000000</td>\n",
       "      <td>4274.000000</td>\n",
       "      <td>4274.000000</td>\n",
       "    </tr>\n",
       "    <tr>\n",
       "      <th>mean</th>\n",
       "      <td>9.300889</td>\n",
       "      <td>58.299719</td>\n",
       "      <td>351.740056</td>\n",
       "    </tr>\n",
       "    <tr>\n",
       "      <th>std</th>\n",
       "      <td>1.407168</td>\n",
       "      <td>2.314246</td>\n",
       "      <td>358.884472</td>\n",
       "    </tr>\n",
       "    <tr>\n",
       "      <th>min</th>\n",
       "      <td>4.000000</td>\n",
       "      <td>44.000000</td>\n",
       "      <td>50.000000</td>\n",
       "    </tr>\n",
       "    <tr>\n",
       "      <th>25%</th>\n",
       "      <td>8.000000</td>\n",
       "      <td>57.000000</td>\n",
       "      <td>193.000000</td>\n",
       "    </tr>\n",
       "    <tr>\n",
       "      <th>50%</th>\n",
       "      <td>9.000000</td>\n",
       "      <td>59.000000</td>\n",
       "      <td>288.000000</td>\n",
       "    </tr>\n",
       "    <tr>\n",
       "      <th>75%</th>\n",
       "      <td>10.000000</td>\n",
       "      <td>60.000000</td>\n",
       "      <td>416.000000</td>\n",
       "    </tr>\n",
       "    <tr>\n",
       "      <th>max</th>\n",
       "      <td>14.000000</td>\n",
       "      <td>62.000000</td>\n",
       "      <td>12202.000000</td>\n",
       "    </tr>\n",
       "  </tbody>\n",
       "</table>\n",
       "</div>"
      ],
      "text/plain": [
       "       headlines_length  text_length  ctext_length\n",
       "count       4274.000000  4274.000000   4274.000000\n",
       "mean           9.300889    58.299719    351.740056\n",
       "std            1.407168     2.314246    358.884472\n",
       "min            4.000000    44.000000     50.000000\n",
       "25%            8.000000    57.000000    193.000000\n",
       "50%            9.000000    59.000000    288.000000\n",
       "75%           10.000000    60.000000    416.000000\n",
       "max           14.000000    62.000000  12202.000000"
      ]
     },
     "execution_count": 12,
     "metadata": {},
     "output_type": "execute_result"
    }
   ],
   "source": [
    "df = df[df['ctext_length'] >= df['text_length']]\n",
    "df.describe()"
   ]
  },
  {
   "cell_type": "code",
   "execution_count": 13,
   "metadata": {
    "tags": []
   },
   "outputs": [
    {
     "data": {
      "image/png": "[encoded data removed]",
      "text/plain": [
       "<Figure size 1500x600 with 1 Axes>"
      ]
     },
     "metadata": {},
     "output_type": "display_data"
    }
   ],
   "source": [
    "df['diff'] = df['ctext_length'] - df['text_length']\n",
    "#sns.set(style=\"whitegrid\")\n",
    "color1 = sns.color_palette(\"Paired\")[3] \n",
    "color2 = sns.color_palette(\"Paired\")[2]  \n",
    "\n",
    "plt.figure(figsize=(15, 6))\n",
    "bar1 = plt.bar(df.index, df['text_length'], color=color1, label='Summarization Length', width=1.0)\n",
    "bar2 = plt.bar(df.index, df['diff'], bottom=df['text_length'], color=color2, label='Difference(News Length - Summarization Length)', width=1.0)\n",
    "\n",
    "plt.xlabel('Index')\n",
    "plt.ylabel('Word Count')\n",
    "plt.title('Bar Chart of News Length and Summarization Length')\n",
    "plt.legend()\n",
    "plt.yscale('log')\n",
    "plt.show()"
   ]
  },
  {
   "cell_type": "code",
   "execution_count": 14,
   "metadata": {
    "tags": []
   },
   "outputs": [
    {
     "data": {
      "text/html": [
       "<div>\n",
       "<style scoped>\n",
       "    .dataframe tbody tr th:only-of-type {\n",
       "        vertical-align: middle;\n",
       "    }\n",
       "\n",
       "    .dataframe tbody tr th {\n",
       "        vertical-align: top;\n",
       "    }\n",
       "\n",
       "    .dataframe thead th {\n",
       "        text-align: right;\n",
       "    }\n",
       "</style>\n",
       "<table border=\"1\" class=\"dataframe\">\n",
       "  <thead>\n",
       "    <tr style=\"text-align: right;\">\n",
       "      <th></th>\n",
       "      <th>headlines</th>\n",
       "      <th>text</th>\n",
       "      <th>ctext</th>\n",
       "    </tr>\n",
       "  </thead>\n",
       "  <tbody>\n",
       "    <tr>\n",
       "      <th>0</th>\n",
       "      <td>daman &amp; diu revokes mandatory rakshabandhan in...</td>\n",
       "      <td>the administration of union territory daman an...</td>\n",
       "      <td>the daman and diu administration on wednesday ...</td>\n",
       "    </tr>\n",
       "    <tr>\n",
       "      <th>1</th>\n",
       "      <td>malaika slams user who trolled her for 'divorc...</td>\n",
       "      <td>malaika arora slammed an instagram user who tr...</td>\n",
       "      <td>from her special numbers to tv?appearances, bo...</td>\n",
       "    </tr>\n",
       "    <tr>\n",
       "      <th>2</th>\n",
       "      <td>'virgin' now corrected to 'unmarried' in igims...</td>\n",
       "      <td>the indira gandhi institute of medical science...</td>\n",
       "      <td>the indira gandhi institute of medical science...</td>\n",
       "    </tr>\n",
       "    <tr>\n",
       "      <th>3</th>\n",
       "      <td>aaj aapne pakad liya: let man dujana before be...</td>\n",
       "      <td>lashkar-e-taiba's kashmir commander abu dujana...</td>\n",
       "      <td>lashkar-e-taiba's kashmir commander abu dujana...</td>\n",
       "    </tr>\n",
       "    <tr>\n",
       "      <th>4</th>\n",
       "      <td>hotel staff to get training to spot signs of s...</td>\n",
       "      <td>hotels in maharashtra will train their staff t...</td>\n",
       "      <td>hotels in mumbai and other indian cities are t...</td>\n",
       "    </tr>\n",
       "  </tbody>\n",
       "</table>\n",
       "</div>"
      ],
      "text/plain": [
       "                                           headlines  \\\n",
       "0  daman & diu revokes mandatory rakshabandhan in...   \n",
       "1  malaika slams user who trolled her for 'divorc...   \n",
       "2  'virgin' now corrected to 'unmarried' in igims...   \n",
       "3  aaj aapne pakad liya: let man dujana before be...   \n",
       "4  hotel staff to get training to spot signs of s...   \n",
       "\n",
       "                                                text  \\\n",
       "0  the administration of union territory daman an...   \n",
       "1  malaika arora slammed an instagram user who tr...   \n",
       "2  the indira gandhi institute of medical science...   \n",
       "3  lashkar-e-taiba's kashmir commander abu dujana...   \n",
       "4  hotels in maharashtra will train their staff t...   \n",
       "\n",
       "                                               ctext  \n",
       "0  the daman and diu administration on wednesday ...  \n",
       "1  from her special numbers to tv?appearances, bo...  \n",
       "2  the indira gandhi institute of medical science...  \n",
       "3  lashkar-e-taiba's kashmir commander abu dujana...  \n",
       "4  hotels in mumbai and other indian cities are t...  "
      ]
     },
     "execution_count": 14,
     "metadata": {},
     "output_type": "execute_result"
    }
   ],
   "source": [
    "df = df.drop(columns=['headlines_length', 'text_length', 'ctext_length', 'diff'])\n",
    "df.head()"
   ]
  },
  {
   "cell_type": "code",
   "execution_count": 15,
   "metadata": {
    "tags": []
   },
   "outputs": [
    {
     "data": {
      "text/html": [
       "<div>\n",
       "<style scoped>\n",
       "    .dataframe tbody tr th:only-of-type {\n",
       "        vertical-align: middle;\n",
       "    }\n",
       "\n",
       "    .dataframe tbody tr th {\n",
       "        vertical-align: top;\n",
       "    }\n",
       "\n",
       "    .dataframe thead th {\n",
       "        text-align: right;\n",
       "    }\n",
       "</style>\n",
       "<table border=\"1\" class=\"dataframe\">\n",
       "  <thead>\n",
       "    <tr style=\"text-align: right;\">\n",
       "      <th></th>\n",
       "      <th>summary</th>\n",
       "      <th>news</th>\n",
       "    </tr>\n",
       "  </thead>\n",
       "  <tbody>\n",
       "    <tr>\n",
       "      <th>0</th>\n",
       "      <td>the administration of union territory daman an...</td>\n",
       "      <td>daman &amp; diu revokes mandatory rakshabandhan in...</td>\n",
       "    </tr>\n",
       "    <tr>\n",
       "      <th>1</th>\n",
       "      <td>malaika arora slammed an instagram user who tr...</td>\n",
       "      <td>malaika slams user who trolled her for 'divorc...</td>\n",
       "    </tr>\n",
       "    <tr>\n",
       "      <th>2</th>\n",
       "      <td>the indira gandhi institute of medical science...</td>\n",
       "      <td>'virgin' now corrected to 'unmarried' in igims...</td>\n",
       "    </tr>\n",
       "    <tr>\n",
       "      <th>3</th>\n",
       "      <td>lashkar-e-taiba's kashmir commander abu dujana...</td>\n",
       "      <td>aaj aapne pakad liya: let man dujana before be...</td>\n",
       "    </tr>\n",
       "    <tr>\n",
       "      <th>4</th>\n",
       "      <td>hotels in maharashtra will train their staff t...</td>\n",
       "      <td>hotel staff to get training to spot signs of s...</td>\n",
       "    </tr>\n",
       "  </tbody>\n",
       "</table>\n",
       "</div>"
      ],
      "text/plain": [
       "                                             summary  \\\n",
       "0  the administration of union territory daman an...   \n",
       "1  malaika arora slammed an instagram user who tr...   \n",
       "2  the indira gandhi institute of medical science...   \n",
       "3  lashkar-e-taiba's kashmir commander abu dujana...   \n",
       "4  hotels in maharashtra will train their staff t...   \n",
       "\n",
       "                                                news  \n",
       "0  daman & diu revokes mandatory rakshabandhan in...  \n",
       "1  malaika slams user who trolled her for 'divorc...  \n",
       "2  'virgin' now corrected to 'unmarried' in igims...  \n",
       "3  aaj aapne pakad liya: let man dujana before be...  \n",
       "4  hotel staff to get training to spot signs of s...  "
      ]
     },
     "execution_count": 15,
     "metadata": {},
     "output_type": "execute_result"
    }
   ],
   "source": [
    "df['news'] = df['headlines'] + '. ' + df['ctext']\n",
    "df.rename(columns={\"text\": \"summary\"}, inplace = True)\n",
    "df = df.drop(columns=['headlines', 'ctext'])\n",
    "df.head()"
   ]
  },
  {
   "cell_type": "code",
   "execution_count": 16,
   "metadata": {
    "tags": []
   },
   "outputs": [
    {
     "data": {
      "text/html": [
       "<div>\n",
       "<style scoped>\n",
       "    .dataframe tbody tr th:only-of-type {\n",
       "        vertical-align: middle;\n",
       "    }\n",
       "\n",
       "    .dataframe tbody tr th {\n",
       "        vertical-align: top;\n",
       "    }\n",
       "\n",
       "    .dataframe thead th {\n",
       "        text-align: right;\n",
       "    }\n",
       "</style>\n",
       "<table border=\"1\" class=\"dataframe\">\n",
       "  <thead>\n",
       "    <tr style=\"text-align: right;\">\n",
       "      <th></th>\n",
       "      <th>summary</th>\n",
       "      <th>news</th>\n",
       "    </tr>\n",
       "  </thead>\n",
       "  <tbody>\n",
       "    <tr>\n",
       "      <th>0</th>\n",
       "      <td>the administration of union territory daman an...</td>\n",
       "      <td>summarize: daman &amp; diu revokes mandatory raksh...</td>\n",
       "    </tr>\n",
       "    <tr>\n",
       "      <th>1</th>\n",
       "      <td>malaika arora slammed an instagram user who tr...</td>\n",
       "      <td>summarize: malaika slams user who trolled her ...</td>\n",
       "    </tr>\n",
       "    <tr>\n",
       "      <th>2</th>\n",
       "      <td>the indira gandhi institute of medical science...</td>\n",
       "      <td>summarize: 'virgin' now corrected to 'unmarrie...</td>\n",
       "    </tr>\n",
       "    <tr>\n",
       "      <th>3</th>\n",
       "      <td>lashkar-e-taiba's kashmir commander abu dujana...</td>\n",
       "      <td>summarize: aaj aapne pakad liya: let man dujan...</td>\n",
       "    </tr>\n",
       "    <tr>\n",
       "      <th>4</th>\n",
       "      <td>hotels in maharashtra will train their staff t...</td>\n",
       "      <td>summarize: hotel staff to get training to spot...</td>\n",
       "    </tr>\n",
       "  </tbody>\n",
       "</table>\n",
       "</div>"
      ],
      "text/plain": [
       "                                             summary  \\\n",
       "0  the administration of union territory daman an...   \n",
       "1  malaika arora slammed an instagram user who tr...   \n",
       "2  the indira gandhi institute of medical science...   \n",
       "3  lashkar-e-taiba's kashmir commander abu dujana...   \n",
       "4  hotels in maharashtra will train their staff t...   \n",
       "\n",
       "                                                news  \n",
       "0  summarize: daman & diu revokes mandatory raksh...  \n",
       "1  summarize: malaika slams user who trolled her ...  \n",
       "2  summarize: 'virgin' now corrected to 'unmarrie...  \n",
       "3  summarize: aaj aapne pakad liya: let man dujan...  \n",
       "4  summarize: hotel staff to get training to spot...  "
      ]
     },
     "execution_count": 16,
     "metadata": {},
     "output_type": "execute_result"
    }
   ],
   "source": [
    "# Making the dataset\n",
    "prefix = 'summarize: '\n",
    "df['news'] = prefix + df['news']\n",
    "df.head()"
   ]
  },
  {
   "cell_type": "code",
   "execution_count": 17,
   "metadata": {
    "tags": []
   },
   "outputs": [
    {
     "name": "stdout",
     "output_type": "stream",
     "text": [
      "train and val shape: (3205, 2) test shape: (1069, 2)\n"
     ]
    },
    {
     "data": {
      "text/plain": [
       "{'summary': 'television actor parth samthaan was on sunday booked for molestation at a mumbai police station based on a complaint filed by a model. the 20-year-old model had alleged that parth misbehaved with her in a drunken state. she further alleged that he shared her contact number, after which she started receiving calls from boys who wanted \"favours\" from her.',\n",
       " 'news': 'summarize: tv actor parth samthaan booked for molestation. tv actor parth samthaan was on sunday booked under section 8 and 12 of posco act in bangur nagar on molestation complaint filed by a model last month. the model had accused samthaan of molestation and registered a complaint at the bangar nagar police station.the victim said she was 16 when she was molested by the actor. samthaan has moved an anticipatory bail application in dindoshi court, which is likely to be heard tomorrow.samthaan was earlier in news after he accused former friend and tv producer vikas gupta of molestation.'}"
      ]
     },
     "execution_count": 17,
     "metadata": {},
     "output_type": "execute_result"
    }
   ],
   "source": [
    "# Converting the pandas dataset to huggingface dataset\n",
    "# first split the train and test set\n",
    "train_df, test_df = train_test_split(df, test_size=0.25, shuffle=True)\n",
    "print(\"train and val shape:\", train_df.shape, \"test shape:\",test_df.shape)\n",
    "# save for every model inference\n",
    "global_train_df = train_df\n",
    "global_test_df = test_df\n",
    "train_df = datasets.Dataset.from_pandas(train_df)\n",
    "train_df = train_df.remove_columns([\"__index_level_0__\"])\n",
    "# split train into train and val\n",
    "train_df = train_df.train_test_split(test_size=0.2, shuffle=True) # split train and test\n",
    "train_df[\"train\"][0]"
   ]
  },
  {
   "cell_type": "code",
   "execution_count": 18,
   "metadata": {
    "tags": []
   },
   "outputs": [
    {
     "name": "stdout",
     "output_type": "stream",
     "text": [
      "<class 'datasets.dataset_dict.DatasetDict'>\n"
     ]
    },
    {
     "data": {
      "text/plain": [
       "DatasetDict({\n",
       "    train: Dataset({\n",
       "        features: ['summary', 'news'],\n",
       "        num_rows: 2564\n",
       "    })\n",
       "    val: Dataset({\n",
       "        features: ['summary', 'news'],\n",
       "        num_rows: 641\n",
       "    })\n",
       "})"
      ]
     },
     "execution_count": 18,
     "metadata": {},
     "output_type": "execute_result"
    }
   ],
   "source": [
    "# Fitting into dataset dict\n",
    "train_val_test_dataset = DatasetDict({\n",
    "    'train': train_df[\"train\"],\n",
    "    'val': train_df['test']})\n",
    "\n",
    "print(type(train_val_test_dataset))\n",
    "train_val_test_dataset"
   ]
  },
  {
   "cell_type": "code",
   "execution_count": 19,
   "metadata": {
    "tags": []
   },
   "outputs": [],
   "source": [
    "# tokenize the data\n",
    "model_name = \"t5-small\"\n",
    "tokenizer = AutoTokenizer.from_pretrained(model_name)"
   ]
  },
  {
   "cell_type": "code",
   "execution_count": 20,
   "metadata": {
    "tags": []
   },
   "outputs": [],
   "source": [
    "def prepare_dataset(data):\n",
    "    inputs = data[\"news\"]\n",
    "    model_inputs = tokenizer(inputs, max_length=512, truncation=True)\n",
    "    labels = tokenizer(text_target=data[\"summary\"], max_length=128, truncation=True)\n",
    "    model_inputs[\"labels\"] = labels[\"input_ids\"]\n",
    "    return model_inputs"
   ]
  },
  {
   "cell_type": "code",
   "execution_count": 21,
   "metadata": {
    "tags": []
   },
   "outputs": [
    {
     "data": {
      "application/vnd.jupyter.widget-view+json": {
       "model_id": "",
       "version_major": 2,
       "version_minor": 0
      },
      "text/plain": [
       "Map:   0%|          | 0/2564 [00:00<?, ? examples/s]"
      ]
     },
     "metadata": {},
     "output_type": "display_data"
    },
    {
     "data": {
      "application/vnd.jupyter.widget-view+json": {
       "model_id": "",
       "version_major": 2,
       "version_minor": 0
      },
      "text/plain": [
       "Map:   0%|          | 0/641 [00:00<?, ? examples/s]"
      ]
     },
     "metadata": {},
     "output_type": "display_data"
    }
   ],
   "source": [
    "tokenized_data = train_val_test_dataset.map(prepare_dataset, batched=True)"
   ]
  },
  {
   "cell_type": "code",
   "execution_count": 22,
   "metadata": {
    "tags": []
   },
   "outputs": [
    {
     "data": {
      "text/plain": [
       "Dataset({\n",
       "    features: ['summary', 'news', 'input_ids', 'attention_mask', 'labels'],\n",
       "    num_rows: 2564\n",
       "})"
      ]
     },
     "execution_count": 22,
     "metadata": {},
     "output_type": "execute_result"
    }
   ],
   "source": [
    "tokenized_data[\"train\"]"
   ]
  },
  {
   "cell_type": "markdown",
   "metadata": {},
   "source": [
    "Now create a batch of examples using [DataCollatorForSeq2Seq](https://huggingface.co/docs/transformers/v4.35.0/en/main_classes/data_collator#transformers.DataCollatorForSeq2Seq). It’s more efficient to dynamically pad the sentences to the longest length in a batch during collation, instead of padding the whole dataset to the maximum length."
   ]
  },
  {
   "cell_type": "code",
   "execution_count": 23,
   "metadata": {
    "tags": []
   },
   "outputs": [],
   "source": [
    "# Padding\n",
    "data_collator = DataCollatorForSeq2Seq(tokenizer=tokenizer, model=model_name)"
   ]
  },
  {
   "cell_type": "code",
   "execution_count": 24,
   "metadata": {
    "tags": []
   },
   "outputs": [],
   "source": [
    "def compute_metrics(eval_pred):\n",
    "    predictions, labels = eval_pred\n",
    "    decoded_preds = tokenizer.batch_decode(predictions, skip_special_tokens=True)\n",
    "    labels = np.where(labels != -100, labels, tokenizer.pad_token_id)\n",
    "    decoded_labels = tokenizer.batch_decode(labels, skip_special_tokens=True)\n",
    "    result = Rouge().get_scores(decoded_preds, decoded_labels, avg=True, ignore_empty=True)\n",
    "\n",
    "    # prediction_lens = [np.count_nonzero(pred != tokenizer.pad_token_id) for pred in predictions]\n",
    "    # result[\"gen_len\"] = np.mean(prediction_lens)\n",
    "\n",
    "    return result"
   ]
  },
  {
   "cell_type": "markdown",
   "metadata": {},
   "source": [
    "### Training"
   ]
  },
  {
   "cell_type": "code",
   "execution_count": 25,
   "metadata": {
    "tags": []
   },
   "outputs": [],
   "source": [
    "# prepare the model\n",
    "T5model = AutoModelForSeq2SeqLM.from_pretrained(model_name).to(device)"
   ]
  },
  {
   "cell_type": "code",
   "execution_count": 26,
   "metadata": {
    "tags": []
   },
   "outputs": [],
   "source": [
    "# set up hyper-parameters\n",
    "training_args = Seq2SeqTrainingArguments(\n",
    "    output_dir=\"t5-news\",\n",
    "    evaluation_strategy=\"epoch\",\n",
    "    learning_rate=2e-5,\n",
    "    per_device_train_batch_size=2,\n",
    "    per_device_eval_batch_size=2,\n",
    "    weight_decay=0.01,\n",
    "    save_total_limit=2,\n",
    "    num_train_epochs=4,\n",
    "    predict_with_generate=True,\n",
    "    fp16=True,\n",
    "    report_to=\"none\"\n",
    ")"
   ]
  },
  {
   "cell_type": "code",
   "execution_count": 27,
   "metadata": {
    "tags": []
   },
   "outputs": [],
   "source": [
    "# setup trainer\n",
    "trainer = Seq2SeqTrainer(\n",
    "    model = T5model,\n",
    "    args = training_args,\n",
    "    train_dataset = tokenized_data[\"train\"],\n",
    "    eval_dataset = tokenized_data[\"val\"],\n",
    "    tokenizer = tokenizer,\n",
    "    data_collator = data_collator,\n",
    "    compute_metrics = compute_metrics\n",
    ")"
   ]
  },
  {
   "cell_type": "code",
   "execution_count": 28,
   "metadata": {
    "tags": []
   },
   "outputs": [
    {
     "name": "stderr",
     "output_type": "stream",
     "text": [
      "You're using a T5TokenizerFast tokenizer. Please note that with a fast tokenizer, using the `__call__` method is faster than using a method to encode the text followed by a call to the `pad` method to get a padded encoding.\n"
     ]
    },
    {
     "data": {
      "text/html": [
       "\n",
       "    <div>\n",
       "      \n",
       "      <progress value='5128' max='5128' style='width:300px; height:20px; vertical-align: middle;'></progress>\n",
       "      [5128/5128 1:08:40, Epoch 4/4]\n",
       "    </div>\n",
       "    <table border=\"1\" class=\"dataframe\">\n",
       "  <thead>\n",
       " <tr style=\"text-align: left;\">\n",
       "      <th>Epoch</th>\n",
       "      <th>Training Loss</th>\n",
       "      <th>Validation Loss</th>\n",
       "      <th>Rouge-1</th>\n",
       "      <th>Rouge-2</th>\n",
       "      <th>Rouge-l</th>\n",
       "    </tr>\n",
       "  </thead>\n",
       "  <tbody>\n",
       "    <tr>\n",
       "      <td>1</td>\n",
       "      <td>1.770700</td>\n",
       "      <td>1.625337</td>\n",
       "      <td>{'r': 0.1422063933231486, 'p': 0.6226265935027524, 'f': 0.22907156930083702}</td>\n",
       "      <td>{'r': 0.06253109345580528, 'p': 0.34072626388630795, 'f': 0.10450387788979448}</td>\n",
       "      <td>{'r': 0.1328369331786073, 'p': 0.5823801602433339, 'f': 0.21404801025724046}</td>\n",
       "    </tr>\n",
       "    <tr>\n",
       "      <td>2</td>\n",
       "      <td>1.682500</td>\n",
       "      <td>1.594156</td>\n",
       "      <td>{'r': 0.1459451622283829, 'p': 0.6327941644531079, 'f': 0.23458024158398416}</td>\n",
       "      <td>{'r': 0.06567285322555878, 'p': 0.3532055758930129, 'f': 0.10952222115693043}</td>\n",
       "      <td>{'r': 0.13662957990900354, 'p': 0.5933974350316006, 'f': 0.21968402953595506}</td>\n",
       "    </tr>\n",
       "    <tr>\n",
       "      <td>3</td>\n",
       "      <td>1.665000</td>\n",
       "      <td>1.583993</td>\n",
       "      <td>{'r': 0.14618641009575187, 'p': 0.6358913420707958, 'f': 0.23512908634288954}</td>\n",
       "      <td>{'r': 0.06626530221605713, 'p': 0.35844380821324023, 'f': 0.11061901236044339}</td>\n",
       "      <td>{'r': 0.13643062511567652, 'p': 0.594883460986517, 'f': 0.2195342941845183}</td>\n",
       "    </tr>\n",
       "    <tr>\n",
       "      <td>4</td>\n",
       "      <td>1.657500</td>\n",
       "      <td>1.580746</td>\n",
       "      <td>{'r': 0.1468923743677981, 'p': 0.6389226559640439, 'f': 0.236284207443439}</td>\n",
       "      <td>{'r': 0.06602478531418453, 'p': 0.35765944566990737, 'f': 0.11024380063778615}</td>\n",
       "      <td>{'r': 0.13697872469341948, 'p': 0.5973270262615954, 'f': 0.22043979522293192}</td>\n",
       "    </tr>\n",
       "  </tbody>\n",
       "</table><p>"
      ],
      "text/plain": [
       "<IPython.core.display.HTML object>"
      ]
     },
     "metadata": {},
     "output_type": "display_data"
    },
    {
     "name": "stderr",
     "output_type": "stream",
     "text": [
      "Checkpoint destination directory t5-news\\checkpoint-500 already exists and is non-empty.Saving will proceed but saved results may be invalid.\n",
      "Checkpoint destination directory t5-news\\checkpoint-1000 already exists and is non-empty.Saving will proceed but saved results may be invalid.\n"
     ]
    },
    {
     "data": {
      "text/plain": [
       "TrainOutput(global_step=5128, training_loss=1.7109682675270879, metrics={'train_runtime': 4124.3232, 'train_samples_per_second': 2.487, 'train_steps_per_second': 1.243, 'total_flos': 1300392577204224.0, 'train_loss': 1.7109682675270879, 'epoch': 4.0})"
      ]
     },
     "execution_count": 28,
     "metadata": {},
     "output_type": "execute_result"
    }
   ],
   "source": [
    "trainer.train()"
   ]
  },
  {
   "cell_type": "code",
   "execution_count": 29,
   "metadata": {
    "tags": []
   },
   "outputs": [
    {
     "data": {
      "text/plain": [
       "('t5-news\\\\tokenizer_config.json',\n",
       " 't5-news\\\\special_tokens_map.json',\n",
       " 't5-news\\\\tokenizer.json')"
      ]
     },
     "execution_count": 29,
     "metadata": {},
     "output_type": "execute_result"
    }
   ],
   "source": [
    "# save the model\n",
    "model_path = \"t5-news\"\n",
    "trainer.save_model(model_path)\n",
    "tokenizer.save_pretrained(model_path)"
   ]
  },
  {
   "cell_type": "markdown",
   "metadata": {},
   "source": [
    "### Summarization"
   ]
  },
  {
   "cell_type": "code",
   "execution_count": 30,
   "metadata": {
    "tags": []
   },
   "outputs": [],
   "source": [
    "# load the model\n",
    "model = AutoModelForSeq2SeqLM.from_pretrained(\"t5-news\")"
   ]
  },
  {
   "cell_type": "code",
   "execution_count": 33,
   "metadata": {
    "tags": []
   },
   "outputs": [
    {
     "name": "stdout",
     "output_type": "stream",
     "text": [
      "original_news:  summarize: nestle, reliance milk products contaminated, claims minister. tamil nadu milk and dairy products developments minister rajendra balaji once again stirred a controversy by alleging that the products of private milk producers are adulterated. in a press briefing at his home today, rajendra balaji held two packets of milk products - one by nestle and the other, a product of reliance and affirmed that he had laboratory results which shows they are contaminated.the dairy minister alleged there are contents of caustic soda and bleaching powder in the milk products. balaji was not worried about the health secretary's earlier report to the court claiming that no such adulterants were discovered. he stated that he has with him laboratory results, which prove his claim. \"the samples were tested in pune to see if the firms were following the centre's food regulation norms,\" balaji said.the minister also stated that he came under pressure when he took his stance and he had to fight many hurdles. a verbal spat ensued between balaji and former education minister vaigai selvan over the ordeal wherein the dairy minister selvan \"someone who will speak anything if you give him a mere rs 500 rupees\". selvan retaliated by stating that it was aiadmk which pushed balaji from rags to riches and hence, he should not apeak against a party member in such a manner.\n",
      "{'summary_text': 'tamil nadu milk and dairy products developments minister rajendra balaji once again stirred a controversy by alleging that the products of private milk producers are adulterated. balaji alleged there are contents of caustic soda and bleaching powder in the milk products. he also stated that he has with him laboratory results, which prove his claim.'}\n",
      "\n",
      "original_news:  summarize: haryana plans to install smog-free towers to curb ncr smog. in its fight against the looming winter smog over the ncr, the haryana government has decided to follow the beijing model. the state is in talks with a holland-based company to set up smogfree towers in gurugram and faridabad, the two districts adjoining the national capital that contribute to nearly one-fifth of air pollution in the region. a smog-free tower is a sevenmetre-high air purifier, the largest in the world, which takes in polluted air particles and expels cleaner air. beijing, often dubbed as the asia's smog-chimney, installed several such units in october last year to handle the worsening air condition in the city. \"haryana surrounds most of the national capital from south, west and north side and it becomes our responsibility to share the burden of ncr's fight against deadly air pollution,\" vipul goel, state industry and environment minister told mail today. \"we are aggressively looking at a tech-enabled pollution free environs in delhi's backyard in faridabad and gurugram to start with.\"also read: goddess will punish us if we build houses higher than temple, say villagers of this punjab hamletgoel said he came to know about the smog-free towers installed in beijing and its positive feedback in china through media articles. the minister got in touch with the dutch designer daan roosegaarde who was behind the clean-air project in an industrial park of chinese capital.instant results he will be soon visiting beijing with a team of experts and officials to see on ground. each air purifier tower, which contains three small in-built purifiers and the outer shell, is effective within the radius of 300 metre to 7 km, claims its manufacturer company.one unit of the giant purifier costs somewhere between `1.8 and `2 crore and it takes about three months to manufacture a single unit. once on ground, it shows instant results, according to the company.goel said that he is keen to push for installing the air purifiers in the two districts before the onset of winters. haryana will also simultaneously employ conventional mode in its fight against pollution and plant about 2.5 crore saplings in the current year. \"we planted about 2.3 lakh trees in just three hours in a similar drive recently,'' he said.also read: mumbai: three caught with old currency notes; rate of exchange drops drastically however, officials associated with the move, said the final details of the purchase were not yet out. \"we have not decided on the numbers yet, but at least 10-15 in manesar-gurugram area alone would be required to bring down smog levels thereâ?¦ and at least three to five in faridabad at critical junctions would be adequate to start this tech-enabled fight against pollution in ncr,\" a state government official, requesting anonymity, said.joint action such a move by haryana would be a welcome move for delhi, currently battling worsening air-pollution levels in a decade and between november and january each year, triggering severe respiratory ailments for children and aged. the national green tribunal too has raised concerns about the perennial smog blanket every winter all over the ncr and advised the states to thrash out a joint action plan to minimize delhi's air pollution levels. experts say that the standing air purifier sucks in 75% of the particles in the nearby air that are dangerous to humans, and then spits out clean air into the surrounding space. also read: mim mla demands investigation as pune police denies party leader asaduddin owaisi permission for public rallyit has already made a difference to beijing air, claims local chinese media. the units are movable and can be reinstalled to a different site. the haryana government is also mulling a viable solution to end crop burning by local farmers. crop burning in fields of haryana and punjab contribute significantly to rising delhi's air pollution levels. but with local politics involved, an immediate step is unlikely soon, hinted officials adding, \"but we are putting up 19 ambient air quality monitors to assess the peak pollution time causing the rise in delhi's air pollution levels\".\n",
      "{'summary_text': \"nagaland chief minister shurhozelie liezietsu and nine ruling naga people's front (npf) legislators skipped wednesday's floor test, forcing assembly speaker imtiwapang aier to adjourn the special session of the house. an mla in the mlc said the chief minister and his loyalists could not attend the special assembly session because they had\"}\n",
      "\n",
      "original_news:  summarize: highest pub in the uk goes on sale for ?7.6 crore. a pub which holds the record for being the highest in the uk is going on for sale for £900,000.the 17th-century tan hill inn in the yorkshire dales stands 1,732 ft (528m) above sea level. it was named the highest in the britain by the guinness book of world records in 1976, beating the cat and fiddle inn in the peak district with an elevation of 1,690 feet (515m).the listed building, which boasts panoramic views of the surrounding area, is regularly cut off by heavy snowfall and current landlady louise peace said she had been snowed in about 50 times, for between three and 11 days, since she bought it with her husband in 2005.a ?solitary inn? was noted to stand on the same spot on the pennine way in a 1586 guide book and the location near the village of keld in swaledale is popular with walkers hoping to see glimpses of the northern lights.peace said the new owner of the pub would need to have stamina, eccentricity and love. ?it needs a nice family network, it?s a fantastic place, it needs a family that can pass it on to the next generation,? she told local media. ?it warms your cockles, it?s an amazing place.?it?s like having a child. you love it and nurture it, then it?s time for them to move on and you wish them all the best. you can?t not love tan hill. you can?t not miss it, you really can?t. it?s in your blood. but i still have to say ?cheerio? and let someone else take it on to the next level.?peace, who is giving up the business to go and join her husband mike at their retirement home in somerset, said she had already had inquiries from potential buyers.in 2009, people celebrating new year?s eve at the tan hill inn were stranded there for three days following a heavy snowfall. in november last year, the band scouting for girls were cut off along with around 200 others after playing a children in need gig at the pub. guests were forced to squeeze into the inn?s 30 rooms, with many sleeping on sofas and floors.\n"
     ]
    },
    {
     "name": "stdout",
     "output_type": "stream",
     "text": [
      "{'summary_text': 'election commission-appointed surveillance and expenditure monitoring teams have recovered over ?64 crore in cash, including ?56.04 crore from uttar pradesh alone, and liquor and drugs worth ?8 crore from the five poll-bound states. punjab has witnessed the maximum seizure of drugs worth 1.78 crore (heroine and poppy husk) followed by contraband in goa valued at ? 16.72 lakh while such seizures in'}\n",
      "\n",
      "original_news:  summarize: farmers oppose land acquisition for proposed noida airport. unhappy with the compensation being offered, farmer leaders of greater noida have decided to start a campaign in jewar?s villages asking other farmers not to give their land for the proposed airport project.their opposition may impact the airport project for which the state government needs 5,000 hectares in around 40 villages along the yamuna expressway. the yamuna expressway industrial development authority (yeida) is likely to begin land acquisition as the centre has given its nod for the project.?we will not let the land acquisition take place for the airport project because the state government is cheating farmers by giving them only rs3,500 per square metre (psm) for land. we are likely to start a campaign telling all villagers along the expressway not to give their land for the project until the up government gives better compensation,? said ajaypal sharma, district president, bharatiya kisan union.the greater noida and yamuna expressway authorities are buying land from farmers through direct purchase for rs3,000 to rs5,000 psm. direct purchase means that if a farmer is willing to sell land, the authority will buy it instead of acquiring it through the land acquisition act, 2013.?we don?t acquire land through the act because it takes a long time to make land available. procuring it through direct purchase is quicker and easier,? said a yeida official.farmers said that if the government tries to forcefully acquires the land, they will hold an agitation.?if the up government does not increase land compensation, we will agitate. what we can do if it wants to repeat the bhatta parsaul agitation? we will educate farmers who give up land for the airport project and start a big protest soon as all farmer unions are together on this issue,? said sunil fauji, a farmer leader.?the state government gave rs17,000 psm for land in ghaziabad. why is it taking our land for rs3,000 psm. we will have to protest for our rights,? said mukesh bhati, a jewar resident.however, district magistrate bn singh, said, ?we will talk to farmers and address their concerns. the government will have to acquire land for crucial projects.??we will acquire land for the airport project by implementing the urgency clause of the land acquisition act, 2013. farmers are happy to give their land for the project and we hope there will be no problem,? said abhay singh, the yeida-appointed for land acquisition for the project.\n",
      "{'summary_text': 'the indian economy is running with ?5 lakh crores less than the amount of cash that would have been present in the economy if demonetisation not happened. this is one of the key findings of a high level internal report on the benefits of democracynetisation which has been prepared by top government officials. un report also read | ?45 crore in demonetised notes seized from textile shop in chennai.'}\n",
      "\n",
      "original_news:  summarize: couple drop daughter at hospital, find her body at doorstep. a 17-year-old girl in tamil nadu's erode district who was being treated for epilepsy and weight loss by a herbal treatment centre died under mysterious circumstances. bhakyasri was left under the care of the herbal treatment centre owner and relative naveen balalji by her parents on june 2 to attend a wedding function. to their shock, when they returned, they found bhakyasri's dead body in a freezer box kept at the doorstep. her parents then rushed her body to the general hospital in coimbatore for autopsy and filed a complaint in the kavundhapadi police station against balaji. bhakyasri's father believes she was administered wrong dose of medicine which turned to be fatal and is now demanding strictest of action against balaji. he also added that when they called in between june 2-6 to inquire about their daughter's health, the authorities said she was responding well and relaxing. according to testimony of bhakyasri's neighbours, they saw the staff of the treatment centre drop off the freezer box on june 3. to add to their plight, the parents had to face blatant apathy at the coimbatore general hospital, where they were asked to pay rs 3,000 as bribe to collect bhakyasri's body from the morgue. clash between the family members of bhakyasri and balaji broke out when he visited the family at the coimbatore hospital. bhakyasri's relatives claim that naveen balaji who runs the herbal treatment centre in erode is a fraud and has no authorisation from medical bodies or the government. also read: why tamil nadu politics involving frequent aiadmk reshuffles is like a game of poker \n",
      "{'summary_text': \"pakistan's former interior minister rehman malik today fell for a april fools day prank when he reacted to a fake news story about naming islamabad's new airport after chinese president xi jinping. hours later, malik expressed serious reservations over it as the airport is named after benazir bhutto, the slain leader\"}\n",
      "\n"
     ]
    }
   ],
   "source": [
    "#for i in range(len(test_df['news']):\n",
    "for i in range(5):\n",
    "    print(\"original_news: \",test_df['news'].iloc[i*10])\n",
    "    summarizer = pipeline(\"summarization\", model = model,tokenizer = tokenizer, max_length = 100)\n",
    "    summary = summarizer(test_df['news'].iloc[i])\n",
    "    print(summary[0])\n",
    "    print()"
   ]
  },
  {
   "cell_type": "code",
   "execution_count": 34,
   "metadata": {
    "tags": []
   },
   "outputs": [],
   "source": [
    "# Free up memory\n",
    "torch.cuda.empty_cache()"
   ]
  },
  {
   "cell_type": "code",
   "execution_count": null,
   "metadata": {},
   "outputs": [],
   "source": []
  }
 ],
 "metadata": {
  "environment": {
   "kernel": "python3",
   "name": "common-gpu.m113",
   "type": "gcloud",
   "uri": "gcr.io/deeplearning-platform-release/base-gpu:m113"
  },
  "kaggle": {
   "accelerator": "gpu",
   "dataSources": [
    {
     "datasetId": 1895,
     "sourceId": 791838,
     "sourceType": "datasetVersion"
    }
   ],
   "dockerImageVersionId": 30580,
   "isGpuEnabled": true,
   "isInternetEnabled": true,
   "language": "python",
   "sourceType": "notebook"
  },
  "kernelspec": {
   "display_name": "Python 3 (ipykernel)",
   "language": "python",
   "name": "python3"
  },
  "language_info": {
   "codemirror_mode": {
    "name": "ipython",
    "version": 3
   },
   "file_extension": ".py",
   "mimetype": "text/x-python",
   "name": "python",
   "nbconvert_exporter": "python",
   "pygments_lexer": "ipython3",
   "version": "3.10.9"
  }
 },
 "nbformat": 4,
 "nbformat_minor": 4
}
